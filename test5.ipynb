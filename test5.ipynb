{
 "cells": [
  {
   "cell_type": "code",
   "execution_count": 17,
   "id": "fcbefe38",
   "metadata": {},
   "outputs": [
    {
     "name": "stdout",
     "output_type": "stream",
     "text": [
      "shofikul\n",
      "shofikul\n",
      "shofikul\n"
     ]
    }
   ],
   "source": [
    "\n",
    "''' single code , double code , triple code diyeo \n",
    "kaj kora ba access kora jay string er '''\n",
    "\n",
    "demo1='shofikul'\n",
    "demo2=\"shofikul\"\n",
    "demo3='''shofikul'''\n",
    "print(demo1)\n",
    "print(demo2)\n",
    "print(demo3)\n",
    "\n"
   ]
  },
  {
   "cell_type": "code",
   "execution_count": 18,
   "id": "fc45ddfb",
   "metadata": {},
   "outputs": [
    {
     "name": "stdout",
     "output_type": "stream",
     "text": [
      "l\n"
     ]
    }
   ],
   "source": [
    "\n",
    "# practice\n",
    "\n",
    "text='hello shofikul'\n",
    "print(text[-1])\n",
    "\n"
   ]
  },
  {
   "cell_type": "code",
   "execution_count": 19,
   "id": "c1504337",
   "metadata": {},
   "outputs": [
    {
     "name": "stdout",
     "output_type": "stream",
     "text": [
      "Hello W\n",
      "shofi\n"
     ]
    }
   ],
   "source": [
    " \n",
    "text= \"Hello World\"\n",
    "print(text[0:7])\n",
    "\n",
    "text='shofiul islam'\n",
    "print(text[0:5])\n"
   ]
  },
  {
   "cell_type": "code",
   "execution_count": null,
   "id": "d21dc4de",
   "metadata": {},
   "outputs": [],
   "source": []
  },
  {
   "cell_type": "code",
   "execution_count": 20,
   "id": "ba4fb8b9",
   "metadata": {},
   "outputs": [
    {
     "name": "stdout",
     "output_type": "stream",
     "text": [
      "ul islam\n"
     ]
    }
   ],
   "source": [
    "\n",
    "text='shofiul islam'\n",
    "print(text[5:])\n"
   ]
  },
  {
   "cell_type": "code",
   "execution_count": 21,
   "id": "ee2ffb0d",
   "metadata": {},
   "outputs": [
    {
     "name": "stdout",
     "output_type": "stream",
     "text": [
      "shofikul islam  jamalpur\n"
     ]
    }
   ],
   "source": [
    "\n",
    "x='shofikul '\n",
    "y=\"islam \" \n",
    "z=''' jamalpur'''\n",
    "print(x+y+z)\n"
   ]
  },
  {
   "cell_type": "code",
   "execution_count": 22,
   "id": "350e960f",
   "metadata": {},
   "outputs": [
    {
     "name": "stdout",
     "output_type": "stream",
     "text": [
      "shofikul   islam \n"
     ]
    }
   ],
   "source": [
    "string1='shofikul   '\n",
    "string2='islam '\n",
    "combined=string1+string2\n",
    "print(combined)"
   ]
  },
  {
   "cell_type": "code",
   "execution_count": 23,
   "id": "88b0ba4a",
   "metadata": {},
   "outputs": [
    {
     "name": "stdout",
     "output_type": "stream",
     "text": [
      "hello world\n"
     ]
    }
   ],
   "source": [
    "\n",
    "\n",
    "string1='hello'\n",
    "string2='world'\n",
    "\n",
    "combined=string1+ ' ' +string2\n",
    "print(combined)\n"
   ]
  },
  {
   "cell_type": "code",
   "execution_count": 24,
   "id": "d3aba9e5",
   "metadata": {},
   "outputs": [
    {
     "data": {
      "text/plain": [
       "' string   ar  akta  value ke \\n  onno value  diye change kora jaina \\n  tai error asbe '"
      ]
     },
     "execution_count": 24,
     "metadata": {},
     "output_type": "execute_result"
    }
   ],
   "source": [
    "\n",
    "''' string   ar  akta  value ke \n",
    "  onno value  diye change kora jaina \n",
    "  tai error asbe '''\n",
    "\n",
    "# text='hello world'\n",
    "# text[0]='a'\n",
    "# print(text)\n",
    "\n"
   ]
  },
  {
   "cell_type": "code",
   "execution_count": 25,
   "id": "5239682e",
   "metadata": {},
   "outputs": [
    {
     "name": "stdout",
     "output_type": "stream",
     "text": [
      "addition: 30\n",
      "substruction: -10\n",
      "multiplication: 200\n",
      "Division: 0.5\n",
      "Modulas: 30\n"
     ]
    }
   ],
   "source": [
    "a=10\n",
    "x=10\n",
    "y=3.1416\n",
    "b=20\n",
    "c=5.67\n",
    "print('addition:' ,a+b)\n",
    "print('substruction:', a-b)\n",
    "print('multiplication:' ,a*b)\n",
    "print('Division:' ,a/b)\n",
    "print('Modulas:' ,a+b)\n",
    " "
   ]
  },
  {
   "cell_type": "code",
   "execution_count": 26,
   "id": "56ce42e6",
   "metadata": {},
   "outputs": [
    {
     "name": "stdout",
     "output_type": "stream",
     "text": [
      "Addition: 30\n",
      "Subtraction: -10\n",
      "Multiplication: 200\n",
      "Division: 0.5\n",
      "Modulus: 10\n"
     ]
    }
   ],
   "source": [
    "# Math or Number Arithmetic calculation\n",
    "a=10\n",
    "x=10\n",
    "y=3.1416\n",
    "\n",
    "b=20\n",
    "c=5.67\n",
    "\n",
    "print(\"Addition:\",a+b)\n",
    "print(\"Subtraction:\",a-b)\n",
    "print(\"Multiplication:\",a*b)\n",
    "print(\"Division:\",a/b)\n",
    "print(\"Modulus:\",a%b)\n",
    "\n"
   ]
  },
  {
   "cell_type": "code",
   "execution_count": 27,
   "id": "498c1741",
   "metadata": {},
   "outputs": [],
   "source": [
    "# import turtle\n",
    "# tom=turtle.Turtle()\n",
    "# print(tom.circle(100))\n",
    "# print(tom)"
   ]
  },
  {
   "cell_type": "code",
   "execution_count": 28,
   "id": "37a61a33",
   "metadata": {},
   "outputs": [
    {
     "name": "stdout",
     "output_type": "stream",
     "text": [
      "shofikul  shofikul  shofikul  shofikul  shofikul  shofikul  shofikul  shofikul  shofikul  shofikul  \n"
     ]
    }
   ],
   "source": [
    "# string repeatation\n",
    "\n",
    "text='shofikul  '\n",
    "\n",
    "many=text*10\n",
    "print(many)\n"
   ]
  },
  {
   "cell_type": "code",
   "execution_count": 29,
   "id": "7da55272",
   "metadata": {},
   "outputs": [
    {
     "name": "stdout",
     "output_type": "stream",
     "text": [
      "shofikul  shofikul  shofikul  shofikul  shofikul  shofikul  shofikul  shofikul  shofikul  shofikul  \n"
     ]
    }
   ],
   "source": [
    "text='shofikul  '\n",
    "repeat=text*10\n",
    "print(repeat)"
   ]
  },
  {
   "cell_type": "code",
   "execution_count": 30,
   "id": "2edb68af",
   "metadata": {},
   "outputs": [
    {
     "name": "stdout",
     "output_type": "stream",
     "text": [
      "10\n"
     ]
    }
   ],
   "source": [
    "\n",
    "\n",
    "class Myclss:          #  clss   er    nam ta  capital letter  a   ditye  hoy \n",
    "    x=10\n",
    "    y=30\n",
    "    z=40\n",
    "    sum=x+y+z\n",
    "\n",
    "\n",
    "obj1=Myclss()                #aitake object bola  hoy\n",
    "print(obj1.x)"
   ]
  },
  {
   "cell_type": "code",
   "execution_count": 31,
   "id": "ec8f9e77",
   "metadata": {},
   "outputs": [
    {
     "name": "stdout",
     "output_type": "stream",
     "text": [
      "30\n"
     ]
    }
   ],
   "source": [
    "\n",
    "\n",
    "class Myclss:          #  clss   er    nam ta  capital letter  a   ditye  hoy \n",
    "    x=10\n",
    "    y=30\n",
    "    z=40\n",
    "    sum=x+y+z\n",
    "\n",
    "\n",
    "obj1=Myclss()                #aitake object bola  hoy\n",
    "print(obj1.y)"
   ]
  },
  {
   "cell_type": "code",
   "execution_count": 32,
   "id": "013e8e4b",
   "metadata": {},
   "outputs": [
    {
     "name": "stdout",
     "output_type": "stream",
     "text": [
      "40\n"
     ]
    }
   ],
   "source": [
    "\n",
    "\n",
    "class Myclss:          #  clss   er    nam ta  capital letter  a   ditye  hoy \n",
    "    x=10\n",
    "    y=30\n",
    "    z=40\n",
    "    sum=x+y+z\n",
    "\n",
    "\n",
    "obj1=Myclss()                #aitake object bola  hoy\n",
    "print(obj1.z)"
   ]
  },
  {
   "cell_type": "code",
   "execution_count": 34,
   "id": "40b45715",
   "metadata": {},
   "outputs": [
    {
     "name": "stdout",
     "output_type": "stream",
     "text": [
      "10\n",
      "30\n",
      "40\n",
      "80\n"
     ]
    }
   ],
   "source": [
    "\n",
    "\n",
    "class Myclss:          #  clss   er    nam ta  capital letter  a   ditye  hoy \n",
    "    x=10\n",
    "    y=30\n",
    "    z=40\n",
    "    sum=x+y+z\n",
    "\n",
    "\n",
    "obj1=Myclss()                #aitake object bola  hoy\n",
    "print(obj1.x)\n",
    "print(obj1.y)\n",
    "print(obj1.z)\n",
    "print(obj1.sum)"
   ]
  },
  {
   "cell_type": "code",
   "execution_count": 41,
   "id": "54bb1211",
   "metadata": {},
   "outputs": [
    {
     "name": "stdout",
     "output_type": "stream",
     "text": [
      "10\n",
      "30\n",
      "40\n",
      "class holo blueprint jar first variable value 10\n",
      "class holo blueprint jar    Second variable value 30\n",
      "class holo blueprint  jar   Third variable value 40\n",
      "class holo blueprint jar   sum  variable value 80\n"
     ]
    }
   ],
   "source": [
    "# class\n",
    "\n",
    "\n",
    "class Myclss:          #  clss   er    nam ta  capital letter  a   ditye  hoy\n",
    "    x=10\n",
    "    y=30\n",
    "    z=40\n",
    "    sum=x+y+z\n",
    "\n",
    "\n",
    "obj1=Myclss()                #aitake object bola  hoy\n",
    "print(obj1.x)\n",
    "\n",
    "\n",
    "obj2=Myclss()                #aitake object bola  hoy\n",
    "print(obj1.y)\n",
    "\n",
    "\n",
    "\n",
    "obj2=Myclss()                #aitake object bola  hoy\n",
    "print(obj1.z)\n",
    "\n",
    "\n",
    "obj1=Myclss()                #aitake object bola  hoy\n",
    "print('class holo blueprint jar first variable value' , obj1.x)\n",
    "print('class holo blueprint jar    Second variable value' , obj1.y)\n",
    "print('class holo blueprint  jar   Third variable value' , obj1.z)\n",
    "print('class holo blueprint jar   sum  variable value' , obj1.sum)\n",
    "\n",
    " \n"
   ]
  },
  {
   "cell_type": "code",
   "execution_count": 1,
   "id": "fbd3f71e",
   "metadata": {},
   "outputs": [
    {
     "name": "stdout",
     "output_type": "stream",
     "text": [
      "125\n"
     ]
    }
   ],
   "source": [
    "\n",
    "class Myclss:          #  clss   er    nam ta  capital letter  a   ditye  hoy\n",
    "    x=10\n",
    "    y=20\n",
    "    #z=100\n",
    "\n",
    "    def __init__(self,zValue,xValue):\n",
    "        self.z=zValue\n",
    "        self.x=xValue\n",
    "\n",
    "    def addTwo(self):\n",
    "        print(self.x+self.y+self.z)\n",
    "\n",
    "\n",
    "obj =Myclss(100 , 5)\n",
    "obj.addTwo()\n",
    "\n",
    "\n",
    "\n",
    "\n"
   ]
  },
  {
   "cell_type": "code",
   "execution_count": 2,
   "id": "367c0c4e",
   "metadata": {},
   "outputs": [
    {
     "name": "stdout",
     "output_type": "stream",
     "text": [
      "140\n",
      "71\n"
     ]
    }
   ],
   "source": [
    "class Myclss:          #  clss   er    nam ta  capital letter  a   ditye  hoy\n",
    "    x=10\n",
    "    y=20\n",
    "    z=30\n",
    "\n",
    "    def addTwo(self,a,b):\n",
    "        sum=self.x+self.y+self.z+a+b\n",
    "        print(sum)\n",
    "\n",
    "    def addNew(self):\n",
    "        self.addTwo(5,6)\n",
    "\n",
    "\n",
    "obj =Myclss()\n",
    "obj.addTwo(30,50)\n",
    "obj.addNew()\n",
    "\n",
    "\n"
   ]
  },
  {
   "cell_type": "code",
   "execution_count": null,
   "id": "b254bb5b",
   "metadata": {},
   "outputs": [
    {
     "name": "stdout",
     "output_type": "stream",
     "text": [
      "30\n"
     ]
    }
   ],
   "source": [
    "class Myclss:          #  clss   er    nam ta  capital letter  a   ditye  hoy\n",
    "    x=10\n",
    "    y=20\n",
    "    @staticmethod\n",
    "    def addTwo():\n",
    "        z=Myclss.x+Myclss.y\n",
    "        print(z)\n",
    "Myclss.addTwo()\n",
    "\n",
    "\n",
    "#  static variable \n",
    "class Myclas:\n",
    "    x=10\n",
    "    y=20\n",
    "    @staticmethod\n",
    "    def addTwo():\n",
    "        z=Myclas.x+Myclas.y\n",
    "        print(z)\n",
    "print(Myclas.x)\n",
    "print(Myclas.y)\n",
    "obj=Myclas()\n",
    "print(obj.x)\n",
    "print(obj.y)\n",
    "\n",
    "\n",
    "\n",
    "\n"
   ]
  },
  {
   "cell_type": "code",
   "execution_count": 14,
   "metadata": {},
   "outputs": [
    {
     "name": "stdout",
     "output_type": "stream",
     "text": [
      "10\n",
      "20\n",
      "10\n",
      "20\n"
     ]
    }
   ],
   "source": [
    "\n",
    "\n",
    "#  static variable \n",
    "class Myclas:\n",
    "    x=10\n",
    "    y=20\n",
    "    @staticmethod\n",
    "    def addTwo():\n",
    "        z=Myclas.x+Myclas.y\n",
    "        print(z)\n",
    "print(Myclas.x)\n",
    "print(Myclas.y)\n",
    "obj=Myclas()\n",
    "print(obj.x)\n",
    "print(obj.y)\n",
    "\n",
    "\n"
   ]
  }
 ],
 "metadata": {
  "kernelspec": {
   "display_name": "Python 3",
   "language": "python",
   "name": "python3"
  },
  "language_info": {
   "codemirror_mode": {
    "name": "ipython",
    "version": 3
   },
   "file_extension": ".py",
   "mimetype": "text/x-python",
   "name": "python",
   "nbconvert_exporter": "python",
   "pygments_lexer": "ipython3",
   "version": "3.13.5"
  }
 },
 "nbformat": 4,
 "nbformat_minor": 5
}
