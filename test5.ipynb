{
 "cells": [
  {
   "cell_type": "code",
   "execution_count": 14,
   "id": "fcbefe38",
   "metadata": {},
   "outputs": [
    {
     "name": "stdout",
     "output_type": "stream",
     "text": [
      "shofikul\n",
      "shofikul\n",
      "shofikul\n"
     ]
    }
   ],
   "source": [
    "\n",
    "''' single code , double code , triple code diyeo \n",
    "kaj kora ba access kora jay string er '''\n",
    "\n",
    "demo1='shofikul'\n",
    "demo2=\"shofikul\"\n",
    "demo3='''shofikul'''\n",
    "print(demo1)\n",
    "print(demo2)\n",
    "print(demo3)\n",
    "\n"
   ]
  },
  {
   "cell_type": "code",
   "execution_count": 15,
   "id": "fc45ddfb",
   "metadata": {},
   "outputs": [
    {
     "name": "stdout",
     "output_type": "stream",
     "text": [
      "l\n"
     ]
    }
   ],
   "source": [
    "\n",
    "# practice\n",
    "\n",
    "text='hello shofikul'\n",
    "print(text[-1])\n",
    "\n"
   ]
  },
  {
   "cell_type": "code",
   "execution_count": 20,
   "id": "c1504337",
   "metadata": {},
   "outputs": [
    {
     "name": "stdout",
     "output_type": "stream",
     "text": [
      "Hello W\n",
      "shofi\n"
     ]
    }
   ],
   "source": [
    " \n",
    "text= \"Hello World\"\n",
    "print(text[0:7])\n",
    "\n",
    "text='shofiul islam'\n",
    "print(text[0:5])\n"
   ]
  },
  {
   "cell_type": "code",
   "execution_count": 16,
   "id": "d3aba9e5",
   "metadata": {},
   "outputs": [
    {
     "data": {
      "text/plain": [
       "' string   ar  akta  value ke \\n  onno value  diye change kora jaina \\n  tai error asbe '"
      ]
     },
     "execution_count": 16,
     "metadata": {},
     "output_type": "execute_result"
    }
   ],
   "source": [
    "\n",
    "''' string   ar  akta  value ke \n",
    "  onno value  diye change kora jaina \n",
    "  tai error asbe '''\n",
    "\n",
    "# text='hello world'\n",
    "# text[0]='a'\n",
    "# print(text)\n",
    "\n"
   ]
  },
  {
   "cell_type": "code",
   "execution_count": 17,
   "id": "5239682e",
   "metadata": {},
   "outputs": [
    {
     "name": "stdout",
     "output_type": "stream",
     "text": [
      "addition: 30\n",
      "substruction: -10\n",
      "multiplication: 200\n",
      "Division: 0.5\n",
      "Modulas: 30\n"
     ]
    }
   ],
   "source": [
    "a=10\n",
    "x=10\n",
    "y=3.1416\n",
    "b=20\n",
    "c=5.67\n",
    "print('addition:' ,a+b)\n",
    "print('substruction:', a-b)\n",
    "print('multiplication:' ,a*b)\n",
    "print('Division:' ,a/b)\n",
    "print('Modulas:' ,a+b)\n",
    " "
   ]
  },
  {
   "cell_type": "code",
   "execution_count": 18,
   "id": "56ce42e6",
   "metadata": {},
   "outputs": [
    {
     "name": "stdout",
     "output_type": "stream",
     "text": [
      "Addition: 30\n",
      "Subtraction: -10\n",
      "Multiplication: 200\n",
      "Division: 0.5\n",
      "Modulus: 10\n"
     ]
    }
   ],
   "source": [
    "# Math or Number Arithmetic calculation\n",
    "a=10\n",
    "x=10\n",
    "y=3.1416\n",
    "\n",
    "b=20\n",
    "c=5.67\n",
    "\n",
    "print(\"Addition:\",a+b)\n",
    "print(\"Subtraction:\",a-b)\n",
    "print(\"Multiplication:\",a*b)\n",
    "print(\"Division:\",a/b)\n",
    "print(\"Modulus:\",a%b)\n",
    "\n"
   ]
  }
 ],
 "metadata": {
  "kernelspec": {
   "display_name": "Python 3",
   "language": "python",
   "name": "python3"
  },
  "language_info": {
   "codemirror_mode": {
    "name": "ipython",
    "version": 3
   },
   "file_extension": ".py",
   "mimetype": "text/x-python",
   "name": "python",
   "nbconvert_exporter": "python",
   "pygments_lexer": "ipython3",
   "version": "3.13.5"
  }
 },
 "nbformat": 4,
 "nbformat_minor": 5
}
